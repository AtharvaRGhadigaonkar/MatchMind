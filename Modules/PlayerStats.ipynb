{
 "cells": [
  {
   "cell_type": "code",
   "execution_count": 21,
   "id": "95f5a97c-f550-4710-8eff-8f8ad9a87151",
   "metadata": {},
   "outputs": [],
   "source": [
    "class PlayerStats:\n",
    "    def __init__(self,df):\n",
    "        self.df = df\n",
    "    def FetchOverallStats(self,playername):\n",
    "        self.playername = playername\n",
    "        return (self.df[self.df[\"Player_name\"]==self.playername])\n",
    "    def FetchBattingStats(self,playername):\n",
    "        self.playername = playername\n",
    "        return (self.df[self.df[\"Player_name\"]==self.playername]).iloc[:,:5]\n",
    "    def FetchBowlingStats(self,playername):\n",
    "        self.playername = playername\n",
    "        return (self.df[self.df[\"Player_name\"]==self.playername]).iloc[:,[0,6,7,8,9,10,11,12,13]]"
   ]
  }
 ],
 "metadata": {
  "kernelspec": {
   "display_name": "Python 3 (ipykernel)",
   "language": "python",
   "name": "python3"
  },
  "language_info": {
   "codemirror_mode": {
    "name": "ipython",
    "version": 3
   },
   "file_extension": ".py",
   "mimetype": "text/x-python",
   "name": "python",
   "nbconvert_exporter": "python",
   "pygments_lexer": "ipython3",
   "version": "3.11.7"
  }
 },
 "nbformat": 4,
 "nbformat_minor": 5
}
