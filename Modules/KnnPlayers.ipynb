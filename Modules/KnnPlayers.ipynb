{
 "cells": [
  {
   "cell_type": "code",
   "execution_count": 1,
   "id": "32818c78-ea87-4317-9305-27c2c7bb4c6f",
   "metadata": {},
   "outputs": [],
   "source": [
    "import numpy as np\n",
    "import pandas as pd\n",
    "from sklearn.neighbors import NearestNeighbors"
   ]
  },
  {
   "cell_type": "code",
   "execution_count": 2,
   "id": "137e5ee4-40de-47b7-a6b6-2c70c431767e",
   "metadata": {},
   "outputs": [],
   "source": [
    "from sklearn.preprocessing import StandardScaler\n",
    "from sklearn.neighbors import NearestNeighbors\n",
    "\n",
    "class PlayerSimilarity:\n",
    "    def __init__(self, df):\n",
    "        self.df = pd.DataFrame(df)\n",
    "        self.scaler = StandardScaler()\n",
    "        self.model = NearestNeighbors(n_neighbors=6)\n",
    "        \n",
    "    def Player_finder(self, Player_name):\n",
    "        self.all_features = ['Batting_avg', 'Batting_strikerate',\n",
    "                             'Batting_total_runs', 'Batting_boundary', 'Batting_dot',\n",
    "                             'Bowling_balls', 'Bowling_over', 'Bowling_runs', 'Bowling_economy',\n",
    "                             'Bowling_wickets', 'Bowling_total_runs', 'Bowling_avg',\n",
    "                             'Bowling_strikerate']\n",
    "        \n",
    "        # Standardize all features\n",
    "        self.df[self.all_features] = self.scaler.fit_transform(self.df[self.all_features])\n",
    "        \n",
    "        # Fit and find similar players\n",
    "        self.model.fit(self.df[self.all_features])\n",
    "        self.query_player = self.df[self.df['Player_name'] == Player_name][self.all_features]\n",
    "        self.distances, self.indices = self.model.kneighbors(self.query_player)\n",
    "        self.similar_players = self.df.iloc[self.indices[0]]['Player_name'].values\n",
    "        return self.similar_players[1:]\n",
    "        \n",
    "    def Bowler_finder(self, Player_name):\n",
    "        self.bowler_features = ['Bowling_balls', 'Bowling_over', 'Bowling_runs', 'Bowling_economy',\n",
    "                                'Bowling_wickets', 'Bowling_total_runs', 'Bowling_avg', 'Bowling_strikerate']\n",
    "        \n",
    "        # Standardize bowler features\n",
    "        self.df[self.bowler_features] = self.scaler.fit_transform(self.df[self.bowler_features])\n",
    "        \n",
    "        # Fit and find similar bowlers\n",
    "        self.model.fit(self.df[self.bowler_features])\n",
    "        self.query_player = self.df[self.df['Player_name'] == Player_name][self.bowler_features]\n",
    "        self.distances, self.indices = self.model.kneighbors(self.query_player)\n",
    "        self.similar_players = self.df.iloc[self.indices[0]]['Player_name'].values\n",
    "        return self.similar_players[1:]\n",
    "        \n",
    "    def Batsmen_finder(self, Player_name):\n",
    "        self.batter_features = ['Batting_avg', 'Batting_strikerate',\n",
    "                                'Batting_total_runs', 'Batting_boundary', 'Batting_dot']\n",
    "        \n",
    "        # Standardize batter features\n",
    "        self.df[self.batter_features] = self.scaler.fit_transform(self.df[self.batter_features])\n",
    "        \n",
    "        # Fit and find similar batsmen\n",
    "        self.model.fit(self.df[self.batter_features])\n",
    "        self.query_player = self.df[self.df['Player_name'] == Player_name][self.batter_features]\n",
    "        self.distances, self.indices = self.model.kneighbors(self.query_player)\n",
    "        self.similar_players = self.df.iloc[self.indices[0]]['Player_name'].values\n",
    "        return self.similar_players[1:]\n"
   ]
  }
 ],
 "metadata": {
  "kernelspec": {
   "display_name": "Python 3 (ipykernel)",
   "language": "python",
   "name": "python3"
  },
  "language_info": {
   "codemirror_mode": {
    "name": "ipython",
    "version": 3
   },
   "file_extension": ".py",
   "mimetype": "text/x-python",
   "name": "python",
   "nbconvert_exporter": "python",
   "pygments_lexer": "ipython3",
   "version": "3.11.7"
  }
 },
 "nbformat": 4,
 "nbformat_minor": 5
}
