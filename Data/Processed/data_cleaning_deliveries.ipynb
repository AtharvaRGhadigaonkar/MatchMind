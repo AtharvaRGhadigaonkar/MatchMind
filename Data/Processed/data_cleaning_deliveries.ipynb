{
 "cells": [
  {
   "cell_type": "markdown",
   "id": "2a65f6dc-f4be-4ac5-a963-ac2d2986e959",
   "metadata": {},
   "source": [
    "# **DATA CLEANING**"
   ]
  },
  {
   "cell_type": "code",
   "execution_count": 1,
   "id": "9664f681-a01d-41d9-87ca-18a447fb3b50",
   "metadata": {},
   "outputs": [],
   "source": [
    "import os\n",
    "import re\n",
    "import numpy as np\n",
    "import pandas as pd"
   ]
  },
  {
   "cell_type": "code",
   "execution_count": 2,
   "id": "4b72b4c1-bc9a-45b4-ae97-e7f9ed9aebc1",
   "metadata": {},
   "outputs": [
    {
     "name": "stdout",
     "output_type": "stream",
     "text": [
      "(260920, 17)\n",
      "(1095, 20)\n"
     ]
    }
   ],
   "source": [
    "data1 =pd.read_csv(\"../Raw/deliveries.csv\")\n",
    "data2 =pd.read_csv(\"../Raw/matches.csv\")\n",
    "print(data1.shape)\n",
    "print(data2.shape)"
   ]
  },
  {
   "cell_type": "code",
   "execution_count": 3,
   "id": "0ed0bb70-d84d-401d-8cab-b5bd4ff9bdf9",
   "metadata": {
    "scrolled": true
   },
   "outputs": [],
   "source": [
    "data = data1.merge(data2,left_on=\"match_id\",right_on=\"id\")"
   ]
  },
  {
   "cell_type": "code",
   "execution_count": 4,
   "id": "e1d633f8-4c33-4882-8681-9bec70847b46",
   "metadata": {},
   "outputs": [
    {
     "data": {
      "text/plain": [
       "match_id                 0\n",
       "inning                   0\n",
       "batting_team             0\n",
       "bowling_team             0\n",
       "over                     0\n",
       "ball                     0\n",
       "batter                   0\n",
       "bowler                   0\n",
       "non_striker              0\n",
       "batsman_runs             0\n",
       "extra_runs               0\n",
       "total_runs               0\n",
       "extras_type         246795\n",
       "is_wicket                0\n",
       "player_dismissed    247970\n",
       "dismissal_kind      247970\n",
       "fielder             251566\n",
       "id                       0\n",
       "season                   0\n",
       "city                 12397\n",
       "date                     0\n",
       "match_type               0\n",
       "player_of_match        490\n",
       "venue                    0\n",
       "team1                    0\n",
       "team2                    0\n",
       "toss_winner              0\n",
       "toss_decision            0\n",
       "winner                 490\n",
       "result                   0\n",
       "result_margin         4124\n",
       "target_runs            309\n",
       "target_overs           309\n",
       "super_over               0\n",
       "method              257274\n",
       "umpire1                  0\n",
       "umpire2                  0\n",
       "dtype: int64"
      ]
     },
     "execution_count": 4,
     "metadata": {},
     "output_type": "execute_result"
    }
   ],
   "source": [
    "data.isna().sum()"
   ]
  },
  {
   "cell_type": "code",
   "execution_count": 5,
   "id": "a025514c-f41b-487b-8e96-f3581664d823",
   "metadata": {},
   "outputs": [],
   "source": [
    "data.tail(10)\n",
    "data[\"method\"].fillna(\"No Issues\",inplace=True)\n",
    "data[\"winner\"].fillna(\"No Result\",inplace=True)"
   ]
  },
  {
   "cell_type": "code",
   "execution_count": 6,
   "id": "e9661810-ecd0-40f7-8cf9-cbe0305ceb73",
   "metadata": {},
   "outputs": [],
   "source": [
    "data.replace(['Royal Challengers Bangalore', 'Kings XI Punjab',\n",
    "       'Delhi Daredevils', 'Mumbai Indians', 'Kolkata Knight Riders',\n",
    "       'Rajasthan Royals', 'Deccan Chargers', 'Chennai Super Kings',\n",
    "       'Kochi Tuskers Kerala', 'Pune Warriors', 'Sunrisers Hyderabad',\n",
    "       'Gujarat Lions', 'Rising Pune Supergiants',\n",
    "       'Rising Pune Supergiant', 'Delhi Capitals', 'Punjab Kings',\n",
    "       'Lucknow Super Giants', 'Gujarat Titans',\n",
    "       'Royal Challengers Bengaluru']\n",
    "                ,\n",
    "             ['RCB','KXIP','DC','MI','KKR','RR','HDC','CSK','KTK','PW','SRH','GL','RPS','RPS','DC','KXIP','LSG','GT','RCB'],inplace=True)"
   ]
  },
  {
   "cell_type": "code",
   "execution_count": 7,
   "id": "1c25530f-646b-44ed-ab4d-d1e086ed2c5e",
   "metadata": {},
   "outputs": [
    {
     "data": {
      "text/plain": [
       "(260920, 37)"
      ]
     },
     "execution_count": 7,
     "metadata": {},
     "output_type": "execute_result"
    }
   ],
   "source": [
    "data.shape"
   ]
  },
  {
   "cell_type": "code",
   "execution_count": 8,
   "id": "73052c9a-736f-4add-9207-25eff684dc6e",
   "metadata": {},
   "outputs": [],
   "source": [
    "data.drop(columns=['id','city','team1', 'team2'],inplace=True)"
   ]
  },
  {
   "cell_type": "code",
   "execution_count": 9,
   "id": "ef585612-1c04-4314-8f13-b54a89352cb7",
   "metadata": {},
   "outputs": [
    {
     "data": {
      "text/plain": [
       "array(['KKR', 'CSK', 'DC', 'RCB', 'RR', 'KXIP', 'HDC', 'MI', 'PW', 'KTK',\n",
       "       'No Result', 'SRH', 'RPS', 'GL', 'GT', 'LSG'], dtype=object)"
      ]
     },
     "execution_count": 9,
     "metadata": {},
     "output_type": "execute_result"
    }
   ],
   "source": [
    "data[\"winner\"].unique()"
   ]
  },
  {
   "cell_type": "code",
   "execution_count": 10,
   "id": "dbdf59ca-51ce-4e1b-8b50-6590108d8b0a",
   "metadata": {},
   "outputs": [],
   "source": [
    "data[\"player_of_match\"].fillna(\"Unknown\",inplace=True)"
   ]
  },
  {
   "cell_type": "code",
   "execution_count": 11,
   "id": "365125e3-03e6-44ba-8495-6187c7e6cfe8",
   "metadata": {},
   "outputs": [
    {
     "data": {
      "text/plain": [
       "match_id                 0\n",
       "inning                   0\n",
       "batting_team             0\n",
       "bowling_team             0\n",
       "over                     0\n",
       "ball                     0\n",
       "batter                   0\n",
       "bowler                   0\n",
       "non_striker              0\n",
       "batsman_runs             0\n",
       "extra_runs               0\n",
       "total_runs               0\n",
       "extras_type         246795\n",
       "is_wicket                0\n",
       "player_dismissed    247970\n",
       "dismissal_kind      247970\n",
       "fielder             251566\n",
       "season                   0\n",
       "date                     0\n",
       "match_type               0\n",
       "player_of_match          0\n",
       "venue                    0\n",
       "toss_winner              0\n",
       "toss_decision            0\n",
       "winner                   0\n",
       "result                   0\n",
       "result_margin         4124\n",
       "target_runs            309\n",
       "target_overs           309\n",
       "super_over               0\n",
       "method                   0\n",
       "umpire1                  0\n",
       "umpire2                  0\n",
       "dtype: int64"
      ]
     },
     "execution_count": 11,
     "metadata": {},
     "output_type": "execute_result"
    }
   ],
   "source": [
    "data.isna().sum()"
   ]
  },
  {
   "cell_type": "code",
   "execution_count": 12,
   "id": "524330a3-ac43-4aa5-a25b-9d803af9c64e",
   "metadata": {},
   "outputs": [
    {
     "data": {
      "text/plain": [
       "(246795, 33)"
      ]
     },
     "execution_count": 12,
     "metadata": {},
     "output_type": "execute_result"
    }
   ],
   "source": [
    "data[pd.isna(data[\"extras_type\"])].shape"
   ]
  },
  {
   "cell_type": "code",
   "execution_count": 13,
   "id": "93615942-88ed-4207-acca-1619d85e0baa",
   "metadata": {},
   "outputs": [
    {
     "data": {
      "text/plain": [
       "array(['legbyes', nan, 'wides', 'byes', 'noballs', 'penalty'],\n",
       "      dtype=object)"
      ]
     },
     "execution_count": 13,
     "metadata": {},
     "output_type": "execute_result"
    }
   ],
   "source": [
    "data[\"extras_type\"].unique()"
   ]
  },
  {
   "cell_type": "code",
   "execution_count": 14,
   "id": "2381c845-bb81-445b-bd6a-8c730bd79c35",
   "metadata": {},
   "outputs": [
    {
     "name": "stderr",
     "output_type": "stream",
     "text": [
      "C:\\Users\\athar\\AppData\\Local\\Temp\\ipykernel_11512\\207219858.py:1: FutureWarning: Setting an item of incompatible dtype is deprecated and will raise in a future error of pandas. Value 'None' has dtype incompatible with float64, please explicitly cast to a compatible dtype first.\n",
      "  data.fillna(\"None\",inplace=True)\n"
     ]
    }
   ],
   "source": [
    "data.fillna(\"None\",inplace=True)\n",
    "data[\"season\"]=data[\"season\"].astype(\"string\")"
   ]
  },
  {
   "cell_type": "code",
   "execution_count": 15,
   "id": "6e1175a5-4b00-4545-b33d-c6d62972c3bf",
   "metadata": {},
   "outputs": [
    {
     "data": {
      "text/plain": [
       "match_id            0\n",
       "inning              0\n",
       "batting_team        0\n",
       "bowling_team        0\n",
       "over                0\n",
       "ball                0\n",
       "batter              0\n",
       "bowler              0\n",
       "non_striker         0\n",
       "batsman_runs        0\n",
       "extra_runs          0\n",
       "total_runs          0\n",
       "extras_type         0\n",
       "is_wicket           0\n",
       "player_dismissed    0\n",
       "dismissal_kind      0\n",
       "fielder             0\n",
       "season              0\n",
       "date                0\n",
       "match_type          0\n",
       "player_of_match     0\n",
       "venue               0\n",
       "toss_winner         0\n",
       "toss_decision       0\n",
       "winner              0\n",
       "result              0\n",
       "result_margin       0\n",
       "target_runs         0\n",
       "target_overs        0\n",
       "super_over          0\n",
       "method              0\n",
       "umpire1             0\n",
       "umpire2             0\n",
       "dtype: int64"
      ]
     },
     "execution_count": 15,
     "metadata": {},
     "output_type": "execute_result"
    }
   ],
   "source": [
    "data.isna().sum()"
   ]
  },
  {
   "cell_type": "code",
   "execution_count": 16,
   "id": "1964be52-aa32-49be-9708-29b0462e7069",
   "metadata": {},
   "outputs": [],
   "source": [
    "data.to_csv(\"cleaned_data_deliveries.csv\")"
   ]
  },
  {
   "cell_type": "code",
   "execution_count": null,
   "id": "e80cec75-58c1-48b0-bb4a-3f2c280a1cca",
   "metadata": {},
   "outputs": [],
   "source": []
  }
 ],
 "metadata": {
  "kernelspec": {
   "display_name": "Python 3 (ipykernel)",
   "language": "python",
   "name": "python3"
  },
  "language_info": {
   "codemirror_mode": {
    "name": "ipython",
    "version": 3
   },
   "file_extension": ".py",
   "mimetype": "text/x-python",
   "name": "python",
   "nbconvert_exporter": "python",
   "pygments_lexer": "ipython3",
   "version": "3.11.7"
  }
 },
 "nbformat": 4,
 "nbformat_minor": 5
}
